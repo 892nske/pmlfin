{
 "cells": [
  {
   "cell_type": "code",
   "execution_count": null,
   "id": "8d319ef1-5e71-4859-998b-46229635ed53",
   "metadata": {},
   "outputs": [],
   "source": [
    "import pymc as pm\n",
    "import numpy as np\n",
    "from datetime import datetime\n",
    "import yfinance as yf \n",
    "import pandas as pd\n",
    "import matplotlib.pyplot as plt\n",
    "import arviz as az\n",
    "\n",
    "np.random.seed(101)\n",
    "\n",
    "start = datetime(2022, 11, 15)\n",
    "end = datetime(2022, 12, 31)\n",
    "\n",
    "market = yf.Ticker('SPY').history(start=start,end=end)\n",
    "stock = yf.Ticker('AAPL').history(start=start,end=end)\n",
    "risk_free_rate = yf.Ticker('^TNX').history(start=start,end=end)\n",
    "\n",
    "daily_returns = pd.DataFrame()\n",
    "daily_returns['market'] = market['Close'].pct_change(1)*100\n",
    "daily_returns['stock'] = stock['Close'].pct_change(1)*100\n",
    "daily_returns['riskfree'] = (1 + risk_free_rate['Close'])**(1/360)-1\n",
    "\n",
    "daily_returns = daily_returns.ffill()\n",
    "daily_returns = daily_returns.dropna()\n",
    "\n",
    "y = daily_returns['stock'] - daily_returns['riskfree']\n",
    "x = daily_returns['market'] - daily_returns['riskfree']\n",
    "\n",
    "test_size = 10\n",
    "x_train = x[:-test_size]\n",
    "y_train = y[:-test_size]\n",
    "x_test = x[-test_size:]\n",
    "y_test = y[-test_size:]\n",
    "\n",
    "model = pm.Model()\n",
    "with model:\n",
    "    alpha = pm.Normal('alpha',mu=0.02,sigma=0.10)\n",
    "    beta = pm.Normal('beta',mu=1.2,sigma=0.15)\n",
    "    residual = pm.HalfStudentT('residual',sigma=0.20,nu=6)\n",
    "    feature = pm.MutableData('feature',x_train,dims='feature_data')\n",
    "    target = pm.MutableData('target',y_train,dims='target_data')\n",
    "    target_expected = pm.Deterministic('target_expected',alpha + beta * feature, dims='feature_data')\n",
    "    target_likelihood = pm.StudentT('target_likelihood', mu=target_expected,sigma=residual,nu=6,observed=target,dims='target_data')\n",
    "    \n",
    "idata = pm.sample_prior_predictive(samples=1000,model=model,return_inferencedata=True,random_seed=28)\n",
    "\n",
    "az.plot_trace(idata.prior,kind='trace',var_names=['alpha','beta','residual'],legend=True)\n",
    "\n",
    "az.plot_posterior(idata.prior,var_names=['alpha','beta','residual'],round_to=2)\n",
    "\n"
   ]
  }
 ],
 "metadata": {
  "kernelspec": {
   "display_name": "Python 3 (ipykernel)",
   "language": "python",
   "name": "python3"
  },
  "language_info": {
   "codemirror_mode": {
    "name": "ipython",
    "version": 3
   },
   "file_extension": ".py",
   "mimetype": "text/x-python",
   "name": "python",
   "nbconvert_exporter": "python",
   "pygments_lexer": "ipython3",
   "version": "3.8.13"
  }
 },
 "nbformat": 4,
 "nbformat_minor": 5
}

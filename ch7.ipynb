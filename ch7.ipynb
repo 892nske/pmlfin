{
 "cells": [
  {
   "cell_type": "code",
   "execution_count": 1,
   "id": "7f13df11-2db6-4408-8670-86afab100ab9",
   "metadata": {},
   "outputs": [
    {
     "name": "stderr",
     "output_type": "stream",
     "text": [
      "WARNING (theano.configdefaults): g++ not detected ! Theano will be unable to execute optimized C-implementations (for both CPU and GPU) and will default to Python implementations. Performance will be severely degraded. To remove this warning, set Theano flags cxx to an empty string.\n",
      "WARNING (theano.tensor.blas): Using NumPy C-API based implementation for BLAS functions.\n"
     ]
    }
   ],
   "source": [
    "import pymc3 as pm\n",
    "import numpy as np\n",
    "from datetime import datetime\n",
    "import yfinance as yf \n",
    "import pandas as pd\n",
    "import matplotlib.pyplot as plt"
   ]
  },
  {
   "cell_type": "code",
   "execution_count": 2,
   "id": "41d78f27-98f3-49e0-9b9f-dadccdffde38",
   "metadata": {},
   "outputs": [],
   "source": [
    "np.random.seed(101)"
   ]
  },
  {
   "cell_type": "code",
   "execution_count": 3,
   "id": "36bb12ce-a49c-43ae-b5dc-30780f93bc56",
   "metadata": {},
   "outputs": [],
   "source": [
    "start = datetime(2002, 11, 15)\n",
    "end = datetime(2002, 12, 31)"
   ]
  },
  {
   "cell_type": "code",
   "execution_count": 4,
   "id": "2b2f1c23-1b5d-450b-8e13-f2c42ca00264",
   "metadata": {},
   "outputs": [],
   "source": [
    "market = yf.Ticker('SPY').history(start=start,end=end)\n",
    "stock = yf.Ticker('AAPL').history(start=start,end=end)\n",
    "risk_free_rate = yf.Ticker('^TNX').history(start=start,end=end)"
   ]
  },
  {
   "cell_type": "code",
   "execution_count": 5,
   "id": "ee3839c8-3b45-43a9-8ade-26ae2f18f4be",
   "metadata": {},
   "outputs": [],
   "source": [
    "daily_returns = pd.DataFrame()"
   ]
  },
  {
   "cell_type": "code",
   "execution_count": 6,
   "id": "11e96c5f-7a22-4fd7-ba01-0cc49613b195",
   "metadata": {},
   "outputs": [],
   "source": [
    "daily_returns['market'] = market['Close'].pct_change(1)*100\n",
    "daily_returns['stock'] = stock['Close'].pct_change(1)*100"
   ]
  },
  {
   "cell_type": "code",
   "execution_count": 7,
   "id": "6e30c48f-9e25-4e71-9e7f-fd1e56b4ea56",
   "metadata": {},
   "outputs": [],
   "source": [
    "daily_returns['riskfree'] = (1 + risk_free_rate['Close'])**(1/360)-1"
   ]
  },
  {
   "cell_type": "code",
   "execution_count": 8,
   "id": "629d05c4-440a-443f-917c-a1e82c68b77d",
   "metadata": {},
   "outputs": [
    {
     "data": {
      "text/plain": [
       "DatetimeIndex([], dtype='datetime64[ns, America/New_York]', name='Date', freq=None)"
      ]
     },
     "execution_count": 8,
     "metadata": {},
     "output_type": "execute_result"
    }
   ],
   "source": [
    "market.index.difference(risk_free_rate.index)"
   ]
  },
  {
   "cell_type": "code",
   "execution_count": 9,
   "id": "62204cec-8f5a-4ea5-87d9-72a0f9fb94e0",
   "metadata": {},
   "outputs": [],
   "source": [
    "# 欠損値埋め\n",
    "daily_returns = daily_returns.ffill()"
   ]
  },
  {
   "cell_type": "code",
   "execution_count": 10,
   "id": "d3585fc3-7275-4b22-95f4-403ca54e6701",
   "metadata": {},
   "outputs": [],
   "source": [
    "daily_returns = daily_returns.dropna()"
   ]
  },
  {
   "cell_type": "code",
   "execution_count": 11,
   "id": "486f4ffd-bc51-481d-b7d2-039211337f0d",
   "metadata": {},
   "outputs": [
    {
     "data": {
      "text/plain": [
       "market      0\n",
       "stock       0\n",
       "riskfree    0\n",
       "dtype: int64"
      ]
     },
     "execution_count": 11,
     "metadata": {},
     "output_type": "execute_result"
    }
   ],
   "source": [
    "daily_returns.isnull().sum()"
   ]
  },
  {
   "cell_type": "code",
   "execution_count": 12,
   "id": "712a8042-441c-4e46-bd10-34e3f477daea",
   "metadata": {},
   "outputs": [
    {
     "data": {
      "text/html": [
       "<div>\n",
       "<style scoped>\n",
       "    .dataframe tbody tr th:only-of-type {\n",
       "        vertical-align: middle;\n",
       "    }\n",
       "\n",
       "    .dataframe tbody tr th {\n",
       "        vertical-align: top;\n",
       "    }\n",
       "\n",
       "    .dataframe thead th {\n",
       "        text-align: right;\n",
       "    }\n",
       "</style>\n",
       "<table border=\"1\" class=\"dataframe\">\n",
       "  <thead>\n",
       "    <tr style=\"text-align: right;\">\n",
       "      <th></th>\n",
       "      <th>market</th>\n",
       "      <th>stock</th>\n",
       "      <th>riskfree</th>\n",
       "    </tr>\n",
       "    <tr>\n",
       "      <th>Date</th>\n",
       "      <th></th>\n",
       "      <th></th>\n",
       "      <th></th>\n",
       "    </tr>\n",
       "  </thead>\n",
       "  <tbody>\n",
       "    <tr>\n",
       "      <th>2002-11-18 00:00:00-05:00</th>\n",
       "      <td>-1.006479</td>\n",
       "      <td>-1.880820</td>\n",
       "      <td>0.004491</td>\n",
       "    </tr>\n",
       "    <tr>\n",
       "      <th>2002-11-19 00:00:00-05:00</th>\n",
       "      <td>-0.132662</td>\n",
       "      <td>-2.427886</td>\n",
       "      <td>0.004469</td>\n",
       "    </tr>\n",
       "    <tr>\n",
       "      <th>2002-11-20 00:00:00-05:00</th>\n",
       "      <td>2.224401</td>\n",
       "      <td>1.702383</td>\n",
       "      <td>0.004522</td>\n",
       "    </tr>\n",
       "    <tr>\n",
       "      <th>2002-11-21 00:00:00-05:00</th>\n",
       "      <td>1.862081</td>\n",
       "      <td>5.280163</td>\n",
       "      <td>0.004559</td>\n",
       "    </tr>\n",
       "    <tr>\n",
       "      <th>2002-11-22 00:00:00-05:00</th>\n",
       "      <td>-0.712112</td>\n",
       "      <td>-2.079408</td>\n",
       "      <td>0.004577</td>\n",
       "    </tr>\n",
       "  </tbody>\n",
       "</table>\n",
       "</div>"
      ],
      "text/plain": [
       "                             market     stock  riskfree\n",
       "Date                                                   \n",
       "2002-11-18 00:00:00-05:00 -1.006479 -1.880820  0.004491\n",
       "2002-11-19 00:00:00-05:00 -0.132662 -2.427886  0.004469\n",
       "2002-11-20 00:00:00-05:00  2.224401  1.702383  0.004522\n",
       "2002-11-21 00:00:00-05:00  1.862081  5.280163  0.004559\n",
       "2002-11-22 00:00:00-05:00 -0.712112 -2.079408  0.004577"
      ]
     },
     "execution_count": 12,
     "metadata": {},
     "output_type": "execute_result"
    }
   ],
   "source": [
    "daily_returns.head()"
   ]
  },
  {
   "cell_type": "code",
   "execution_count": 13,
   "id": "f5338e26-0f04-4721-9a40-91770007a76c",
   "metadata": {},
   "outputs": [],
   "source": [
    "# 超過リターンを計算\n",
    "y = daily_returns['stock'] - daily_returns['riskfree']\n",
    "x = daily_returns['market'] - daily_returns['riskfree']"
   ]
  },
  {
   "cell_type": "code",
   "execution_count": 14,
   "id": "6ba5b1c7-6708-43c1-9c6c-6253c192ae58",
   "metadata": {},
   "outputs": [
    {
     "data": {
      "text/plain": [
       "Text(0.5, 0, 'Exscess returns of S&P500')"
      ]
     },
     "execution_count": 14,
     "metadata": {},
     "output_type": "execute_result"
    },
    {
     "data": {
      "image/png": "[encoded data removed]",
      "text/plain": [
       "<Figure size 640x480 with 1 Axes>"
      ]
     },
     "metadata": {},
     "output_type": "display_data"
    }
   ],
   "source": [
    "# プロット\n",
    "plt.scatter(x,y)\n",
    "plt.ylabel('Exscess returns of AAPL')\n",
    "plt.xlabel('Exscess returns of S&P500')"
   ]
  },
  {
   "cell_type": "code",
   "execution_count": 15,
   "id": "f5b491c2-2ca1-489d-b971-458f38ec6e9c",
   "metadata": {},
   "outputs": [
    {
     "data": {
      "text/plain": [
       "(array([0.1177334 , 0.31395574, 0.15697787, 0.1177334 , 0.1177334 ,\n",
       "        0.1177334 , 0.1177334 , 0.        , 0.03924447, 0.03924447]),\n",
       " array([-3.51105055e+00, -2.63238508e+00, -1.75371961e+00, -8.75054139e-01,\n",
       "         3.61133041e-03,  8.82276800e-01,  1.76094227e+00,  2.63960774e+00,\n",
       "         3.51827321e+00,  4.39693868e+00,  5.27560415e+00]),\n",
       " <BarContainer object of 10 artists>)"
      ]
     },
     "execution_count": 15,
     "metadata": {},
     "output_type": "execute_result"
    },
    {
     "data": {
      "image/png": "[encoded data removed]",
      "text/plain": [
       "<Figure size 640x480 with 1 Axes>"
      ]
     },
     "metadata": {},
     "output_type": "display_data"
    }
   ],
   "source": [
    "plt.hist(y, density=True, color='blue')"
   ]
  },
  {
   "cell_type": "code",
   "execution_count": 16,
   "id": "c11623fc-5cf7-459d-8ea9-a36951989428",
   "metadata": {},
   "outputs": [
    {
     "data": {
      "text/html": [
       "<div>\n",
       "<style scoped>\n",
       "    .dataframe tbody tr th:only-of-type {\n",
       "        vertical-align: middle;\n",
       "    }\n",
       "\n",
       "    .dataframe tbody tr th {\n",
       "        vertical-align: top;\n",
       "    }\n",
       "\n",
       "    .dataframe thead th {\n",
       "        text-align: right;\n",
       "    }\n",
       "</style>\n",
       "<table border=\"1\" class=\"dataframe\">\n",
       "  <thead>\n",
       "    <tr style=\"text-align: right;\">\n",
       "      <th></th>\n",
       "      <th>market</th>\n",
       "      <th>stock</th>\n",
       "      <th>riskfree</th>\n",
       "    </tr>\n",
       "  </thead>\n",
       "  <tbody>\n",
       "    <tr>\n",
       "      <th>count</th>\n",
       "      <td>29.000000</td>\n",
       "      <td>29.000000</td>\n",
       "      <td>29.000000</td>\n",
       "    </tr>\n",
       "    <tr>\n",
       "      <th>mean</th>\n",
       "      <td>-0.100078</td>\n",
       "      <td>-0.408497</td>\n",
       "      <td>0.004513</td>\n",
       "    </tr>\n",
       "    <tr>\n",
       "      <th>std</th>\n",
       "      <td>1.394661</td>\n",
       "      <td>2.190433</td>\n",
       "      <td>0.000066</td>\n",
       "    </tr>\n",
       "    <tr>\n",
       "      <th>min</th>\n",
       "      <td>-2.749089</td>\n",
       "      <td>-3.506526</td>\n",
       "      <td>0.004357</td>\n",
       "    </tr>\n",
       "    <tr>\n",
       "      <th>25%</th>\n",
       "      <td>-1.006479</td>\n",
       "      <td>-2.079408</td>\n",
       "      <td>0.004469</td>\n",
       "    </tr>\n",
       "    <tr>\n",
       "      <th>50%</th>\n",
       "      <td>-0.132662</td>\n",
       "      <td>-0.896996</td>\n",
       "      <td>0.004515</td>\n",
       "    </tr>\n",
       "    <tr>\n",
       "      <th>75%</th>\n",
       "      <td>0.656205</td>\n",
       "      <td>1.374343</td>\n",
       "      <td>0.004559</td>\n",
       "    </tr>\n",
       "    <tr>\n",
       "      <th>max</th>\n",
       "      <td>2.813509</td>\n",
       "      <td>5.280163</td>\n",
       "      <td>0.004622</td>\n",
       "    </tr>\n",
       "  </tbody>\n",
       "</table>\n",
       "</div>"
      ],
      "text/plain": [
       "          market      stock   riskfree\n",
       "count  29.000000  29.000000  29.000000\n",
       "mean   -0.100078  -0.408497   0.004513\n",
       "std     1.394661   2.190433   0.000066\n",
       "min    -2.749089  -3.506526   0.004357\n",
       "25%    -1.006479  -2.079408   0.004469\n",
       "50%    -0.132662  -0.896996   0.004515\n",
       "75%     0.656205   1.374343   0.004559\n",
       "max     2.813509   5.280163   0.004622"
      ]
     },
     "execution_count": 16,
     "metadata": {},
     "output_type": "execute_result"
    }
   ],
   "source": [
    "daily_returns.describe()"
   ]
  },
  {
   "cell_type": "code",
   "execution_count": null,
   "id": "32c751c9-daf5-4372-a788-ef0ff390f9cd",
   "metadata": {},
   "outputs": [],
   "source": [
    "test_size = 10\n",
    "\n",
    "x_train = x[:, -test_size]\n",
    "y_train = x[:, -test_size]"
   ]
  }
 ],
 "metadata": {
  "kernelspec": {
   "display_name": "Python 3 (ipykernel)",
   "language": "python",
   "name": "python3"
  },
  "language_info": {
   "codemirror_mode": {
    "name": "ipython",
    "version": 3
   },
   "file_extension": ".py",
   "mimetype": "text/x-python",
   "name": "python",
   "nbconvert_exporter": "python",
   "pygments_lexer": "ipython3",
   "version": "3.8.13"
  }
 },
 "nbformat": 4,
 "nbformat_minor": 5
}
